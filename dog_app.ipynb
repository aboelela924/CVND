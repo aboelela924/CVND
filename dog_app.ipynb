{
  "nbformat": 4,
  "nbformat_minor": 0,
  "metadata": {
    "anaconda-cloud": {},
    "kernelspec": {
      "name": "python3",
      "display_name": "Python 3"
    },
    "colab": {
      "name": "dog_app.ipynb",
      "provenance": [],
      "collapsed_sections": [
        "gT4roXJXUi-v",
        "1J6tINkFUi-z",
        "f4ZJjFDvUi-2",
        "exVPcFfoUi-5",
        "iZJBVzICUi_B",
        "2YY-l_sSUi_G"
      ],
      "include_colab_link": true
    },
    "accelerator": "GPU"
  },
  "cells": [
    {
      "cell_type": "markdown",
      "metadata": {
        "id": "view-in-github",
        "colab_type": "text"
      },
      "source": [
        "<a href=\"https://colab.research.google.com/github/aboelela924/CVND/blob/master/dog_app.ipynb\" target=\"_parent\"><img src=\"https://colab.research.google.com/assets/colab-badge.svg\" alt=\"Open In Colab\"/></a>"
      ]
    },
    {
      "cell_type": "markdown",
      "metadata": {
        "id": "MEoHDI-0Ui89",
        "colab_type": "text"
      },
      "source": [
        "# Artificial Intelligence Nanodegree\n",
        "\n",
        "## Convolutional Neural Networks\n",
        "\n",
        "## Project: Write an Algorithm for a Dog Identification App \n",
        "\n",
        "---\n",
        "\n",
        "In this notebook, some template code has already been provided for you, and you will need to implement additional functionality to successfully complete this project. You will not need to modify the included code beyond what is requested. Sections that begin with **'(IMPLEMENTATION)'** in the header indicate that the following block of code will require additional functionality which you must provide. Instructions will be provided for each section, and the specifics of the implementation are marked in the code block with a 'TODO' statement. Please be sure to read the instructions carefully! \n",
        "\n",
        "> **Note**: Once you have completed all of the code implementations, you need to finalize your work by exporting the iPython Notebook as an HTML document. Before exporting the notebook to html, all of the code cells need to have been run so that reviewers can see the final implementation and output. You can then export the notebook by using the menu above and navigating to  \\n\",\n",
        "    \"**File -> Download as -> HTML (.html)**. Include the finished document along with this notebook as your submission.\n",
        "\n",
        "In addition to implementing code, there will be questions that you must answer which relate to the project and your implementation. Each section where you will answer a question is preceded by a **'Question X'** header. Carefully read each question and provide thorough answers in the following text boxes that begin with **'Answer:'**. Your project submission will be evaluated based on your answers to each of the questions and the implementation you provide.\n",
        "\n",
        ">**Note:** Code and Markdown cells can be executed using the **Shift + Enter** keyboard shortcut.  Markdown cells can be edited by double-clicking the cell to enter edit mode.\n",
        "\n",
        "The rubric contains _optional_ \"Stand Out Suggestions\" for enhancing the project beyond the minimum requirements. If you decide to pursue the \"Stand Out Suggestions\", you should include the code in this IPython notebook.\n",
        "\n",
        "\n",
        "\n",
        "---\n",
        "### Why We're Here \n",
        "\n",
        "In this notebook, you will make the first steps towards developing an algorithm that could be used as part of a mobile or web app.  At the end of this project, your code will accept any user-supplied image as input.  If a dog is detected in the image, it will provide an estimate of the dog's breed.  If a human is detected, it will provide an estimate of the dog breed that is most resembling.  The image below displays potential sample output of your finished project (... but we expect that each student's algorithm will behave differently!). \n",
        "\n",
        "![Sample Dog Output](images/sample_dog_output.png)\n",
        "\n",
        "In this real-world setting, you will need to piece together a series of models to perform different tasks; for instance, the algorithm that detects humans in an image will be different from the CNN that infers dog breed.  There are many points of possible failure, and no perfect algorithm exists.  Your imperfect solution will nonetheless create a fun user experience!\n",
        "\n",
        "### The Road Ahead\n",
        "\n",
        "We break the notebook into separate steps.  Feel free to use the links below to navigate the notebook.\n",
        "\n",
        "* [Step 0](#step0): Import Datasets\n",
        "* [Step 1](#step1): Detect Humans\n",
        "* [Step 2](#step2): Detect Dogs\n",
        "* [Step 3](#step3): Create a CNN to Classify Dog Breeds (from Scratch)\n",
        "* [Step 4](#step4): Use a CNN to Classify Dog Breeds (using Transfer Learning)\n",
        "* [Step 5](#step5): Create a CNN to Classify Dog Breeds (using Transfer Learning)\n",
        "* [Step 6](#step6): Write your Algorithm\n",
        "* [Step 7](#step7): Test Your Algorithm\n",
        "\n",
        "---\n",
        "<a id='step0'></a>\n",
        "## Step 0: Import Datasets\n",
        "\n",
        "### Import Dog Dataset\n",
        "\n",
        "In the code cell below, we import a dataset of dog images.  We populate a few variables through the use of the `load_files` function from the scikit-learn library:\n",
        "- `train_files`, `valid_files`, `test_files` - numpy arrays containing file paths to images\n",
        "- `train_targets`, `valid_targets`, `test_targets` - numpy arrays containing onehot-encoded classification labels \n",
        "- `dog_names` - list of string-valued dog breed names for translating labels"
      ]
    },
    {
      "cell_type": "code",
      "metadata": {
        "id": "QBMdaV3DX1je",
        "colab_type": "code",
        "colab": {
          "base_uri": "https://localhost:8080/",
          "height": 166
        },
        "outputId": "7b7657be-f6ea-433a-f416-8d14e466fb2e"
      },
      "source": [
        "!pip install wget"
      ],
      "execution_count": null,
      "outputs": [
        {
          "output_type": "stream",
          "text": [
            "Collecting wget\n",
            "  Downloading https://files.pythonhosted.org/packages/47/6a/62e288da7bcda82b935ff0c6cfe542970f04e29c756b0e147251b2fb251f/wget-3.2.zip\n",
            "Building wheels for collected packages: wget\n",
            "  Building wheel for wget (setup.py) ... \u001b[?25l\u001b[?25hdone\n",
            "  Created wheel for wget: filename=wget-3.2-cp36-none-any.whl size=9682 sha256=f2d3ca735709ffd3de6a53bd2ecb70ba7900540a5422104cf72db7038e2d04cc\n",
            "  Stored in directory: /root/.cache/pip/wheels/40/15/30/7d8f7cea2902b4db79e3fea550d7d7b85ecb27ef992b618f3f\n",
            "Successfully built wget\n",
            "Installing collected packages: wget\n",
            "Successfully installed wget-3.2\n"
          ],
          "name": "stdout"
        }
      ]
    },
    {
      "cell_type": "code",
      "metadata": {
        "id": "ZKh2tdEbTFQJ",
        "colab_type": "code",
        "colab": {}
      },
      "source": [
        "import os\n",
        "os.mkdir(\"/content/saved_models\")\n",
        "os.mkdir(\"/content/haarcascades\")\n",
        "os.mkdir(\"/content/images\")\n",
        "os.mkdir(\"/content/bottleneck_features\")"
      ],
      "execution_count": null,
      "outputs": []
    },
    {
      "cell_type": "code",
      "metadata": {
        "id": "aSvWiYnbYnpf",
        "colab_type": "code",
        "colab": {}
      },
      "source": [
        "import wget\n",
        "import zipfile\n",
        "\n",
        "url = 'https://s3-us-west-1.amazonaws.com/udacity-aind/dog-project/dogImages.zip'\n",
        "wget.download(url, '/content/dogImages.zip')\n",
        "\n",
        "with zipfile.ZipFile(\"/content/dogImages.zip\", 'r') as zip_ref:\n",
        "    zip_ref.extractall(\"/content\")\n",
        "\n",
        "\n",
        "url = 'https://s3-us-west-1.amazonaws.com/udacity-aind/dog-project/lfw.zip'\n",
        "wget.download(url, '/content/lfw.zip')\n",
        "\n",
        "with zipfile.ZipFile(\"/content/lfw.zip\", 'r') as zip_ref:\n",
        "    zip_ref.extractall(\"/content\")\n",
        "\n",
        "model_url = \"https://s3-us-west-1.amazonaws.com/udacity-aind/dog-project/DogVGG16Data.npz\"\n",
        "wget.download(model_url, \"/content/bottleneck_features/DogVGG16Data.npz\")"
      ],
      "execution_count": null,
      "outputs": []
    },
    {
      "cell_type": "code",
      "metadata": {
        "id": "HZ5vbRZIUi9A",
        "colab_type": "code",
        "colab": {
          "base_uri": "https://localhost:8080/",
          "height": 133
        },
        "outputId": "7045744a-9904-4026-86e1-4cb4aa223742"
      },
      "source": [
        "from sklearn.datasets import load_files       \n",
        "from keras.utils import np_utils\n",
        "import numpy as np\n",
        "from glob import glob\n",
        "\n",
        "# define function to load train, test, and validation datasets\n",
        "def load_dataset(path):\n",
        "    data = load_files(path)\n",
        "    dog_files = np.array(data['filenames'])\n",
        "    dog_targets = np_utils.to_categorical(np.array(data['target']), 133)\n",
        "    return dog_files, dog_targets\n",
        "\n",
        "# load train, test, and validation datasets\n",
        "train_files, train_targets = load_dataset('/content/dogImages/train')\n",
        "valid_files, valid_targets = load_dataset('/content/dogImages/valid')\n",
        "test_files, test_targets = load_dataset('/content/dogImages/test')\n",
        "\n",
        "# load list of dog names\n",
        "dog_names = [item[20:-1] for item in sorted(glob(\"/content/dogImages/train/*/\"))]\n",
        "\n",
        "# print statistics about the dataset\n",
        "print('There are %d total dog categories.' % len(dog_names))\n",
        "print('There are %s total dog images.\\n' % len(np.hstack([train_files, valid_files, test_files])))\n",
        "print('There are %d training dog images.' % len(train_files))\n",
        "print('There are %d validation dog images.' % len(valid_files))\n",
        "print('There are %d test dog images.'% len(test_files))"
      ],
      "execution_count": null,
      "outputs": [
        {
          "output_type": "stream",
          "text": [
            "Using TensorFlow backend.\n"
          ],
          "name": "stderr"
        },
        {
          "output_type": "stream",
          "text": [
            "There are 133 total dog categories.\n",
            "There are 8351 total dog images.\n",
            "\n",
            "There are 6680 training dog images.\n",
            "There are 835 validation dog images.\n",
            "There are 836 test dog images.\n"
          ],
          "name": "stdout"
        }
      ]
    },
    {
      "cell_type": "markdown",
      "metadata": {
        "id": "nb7wHZFoUi9J",
        "colab_type": "text"
      },
      "source": [
        "### Import Human Dataset\n",
        "\n",
        "In the code cell below, we import a dataset of human images, where the file paths are stored in the numpy array `human_files`."
      ]
    },
    {
      "cell_type": "code",
      "metadata": {
        "id": "7HRfIj-6Ui9K",
        "colab_type": "code",
        "colab": {
          "base_uri": "https://localhost:8080/",
          "height": 33
        },
        "outputId": "62863bdd-9cdc-46a9-bf2f-0f75359b3c9e"
      },
      "source": [
        "import random\n",
        "random.seed(8675309)\n",
        "\n",
        "# load filenames in shuffled human dataset\n",
        "human_files = np.array(glob(\"lfw/*/*\"))\n",
        "random.shuffle(human_files)\n",
        "\n",
        "# print statistics about the dataset\n",
        "print('There are %d total human images.' % len(human_files))"
      ],
      "execution_count": null,
      "outputs": [
        {
          "output_type": "stream",
          "text": [
            "There are 13233 total human images.\n"
          ],
          "name": "stdout"
        }
      ]
    },
    {
      "cell_type": "markdown",
      "metadata": {
        "id": "yzu0zFZTUi9R",
        "colab_type": "text"
      },
      "source": [
        "---\n",
        "<a id='step1'></a>\n",
        "## Step 1: Detect Humans\n",
        "\n",
        "We use OpenCV's implementation of [Haar feature-based cascade classifiers](http://docs.opencv.org/trunk/d7/d8b/tutorial_py_face_detection.html) to detect human faces in images.  OpenCV provides many pre-trained face detectors, stored as XML files on [github](https://github.com/opencv/opencv/tree/master/data/haarcascades).  We have downloaded one of these detectors and stored it in the `haarcascades` directory.\n",
        "\n",
        "In the next code cell, we demonstrate how to use this detector to find human faces in a sample image."
      ]
    },
    {
      "cell_type": "code",
      "metadata": {
        "id": "3k3IF993Ui9S",
        "colab_type": "code",
        "colab": {
          "base_uri": "https://localhost:8080/",
          "height": 285
        },
        "outputId": "e48e0489-f08f-4bae-cf89-029148f4682d"
      },
      "source": [
        "import cv2                \n",
        "import matplotlib.pyplot as plt                        \n",
        "%matplotlib inline                               \n",
        "\n",
        "# extract pre-trained face detector\n",
        "face_cascade = cv2.CascadeClassifier('/content/haarcascades/haarcascade_frontalface_alt.xml')\n",
        "\n",
        "# load color (BGR) image\n",
        "img = cv2.imread(human_files[3])\n",
        "# convert BGR image to grayscale\n",
        "gray = cv2.cvtColor(img, cv2.COLOR_BGR2GRAY)\n",
        "\n",
        "# find faces in image\n",
        "faces = face_cascade.detectMultiScale(gray)\n",
        "\n",
        "# print number of faces detected in the image\n",
        "print('Number of faces detected:', len(faces))\n",
        "\n",
        "# get bounding box for each detected face\n",
        "for (x,y,w,h) in faces:\n",
        "    # add bounding box to color image\n",
        "    cv2.rectangle(img,(x,y),(x+w,y+h),(255,0,0),2)\n",
        "    \n",
        "# convert BGR image to RGB for plotting\n",
        "cv_rgb = cv2.cvtColor(img, cv2.COLOR_BGR2RGB)\n",
        "\n",
        "# display the image, along with bounding box\n",
        "plt.imshow(cv_rgb)\n",
        "plt.show()"
      ],
      "execution_count": null,
      "outputs": [
        {
          "output_type": "stream",
          "text": [
            "Number of faces detected: 1\n"
          ],
          "name": "stdout"
        },
        {
          "output_type": "display_data",
          "data": {
            "image/png": "[encoded data removed]",
            "text/plain": [
              "<Figure size 432x288 with 1 Axes>"
            ]
          },
          "metadata": {
            "tags": [],
            "needs_background": "light"
          }
        }
      ]
    },
    {
      "cell_type": "markdown",
      "metadata": {
        "id": "I4w6mfSBUi9V",
        "colab_type": "text"
      },
      "source": [
        "Before using any of the face detectors, it is standard procedure to convert the images to grayscale.  The `detectMultiScale` function executes the classifier stored in `face_cascade` and takes the grayscale image as a parameter.  \n",
        "\n",
        "In the above code, `faces` is a numpy array of detected faces, where each row corresponds to a detected face.  Each detected face is a 1D array with four entries that specifies the bounding box of the detected face.  The first two entries in the array (extracted in the above code as `x` and `y`) specify the horizontal and vertical positions of the top left corner of the bounding box.  The last two entries in the array (extracted here as `w` and `h`) specify the width and height of the box.\n",
        "\n",
        "### Write a Human Face Detector\n",
        "\n",
        "We can use this procedure to write a function that returns `True` if a human face is detected in an image and `False` otherwise.  This function, aptly named `face_detector`, takes a string-valued file path to an image as input and appears in the code block below."
      ]
    },
    {
      "cell_type": "code",
      "metadata": {
        "id": "5ihMr6DTUi9W",
        "colab_type": "code",
        "colab": {}
      },
      "source": [
        "# returns \"True\" if face is detected in image stored at img_path\n",
        "def face_detector(img_path):\n",
        "    img = cv2.imread(img_path)\n",
        "    gray = cv2.cvtColor(img, cv2.COLOR_BGR2GRAY)\n",
        "    faces = face_cascade.detectMultiScale(gray)\n",
        "    return len(faces) > 0"
      ],
      "execution_count": null,
      "outputs": []
    },
    {
      "cell_type": "markdown",
      "metadata": {
        "id": "jA2EIpQCUi9Z",
        "colab_type": "text"
      },
      "source": [
        "### (IMPLEMENTATION) Assess the Human Face Detector\n",
        "\n",
        "__Question 1:__ Use the code cell below to test the performance of the `face_detector` function.  \n",
        "- What percentage of the first 100 images in `human_files` have a detected human face?  \n",
        "- What percentage of the first 100 images in `dog_files` have a detected human face? \n",
        "\n",
        "Ideally, we would like 100% of human images with a detected face and 0% of dog images with a detected face.  You will see that our algorithm falls short of this goal, but still gives acceptable performance.  We extract the file paths for the first 100 images from each of the datasets and store them in the numpy arrays `human_files_short` and `dog_files_short`.\n",
        "\n",
        "__Answer:__ "
      ]
    },
    {
      "cell_type": "code",
      "metadata": {
        "id": "atmBvKSFUi9Z",
        "colab_type": "code",
        "colab": {
          "base_uri": "https://localhost:8080/",
          "height": 33
        },
        "outputId": "e22e6eae-5a3e-4e6e-d71d-78fac8807e4e"
      },
      "source": [
        "human_files_short = human_files[:100]\n",
        "dog_files_short = train_files[:100]\n",
        "# Do NOT modify the code above this line.\n",
        "\n",
        "## TODO: Test the performance of the face_detector algorithm \n",
        "## on the images in human_files_short and dog_files_short.\n",
        "correct = 0\n",
        "for img_dir in human_files_short:\n",
        "    is_human = face_detector(img_dir)\n",
        "    if is_human:\n",
        "        correct += 1\n",
        "for img_dir in dog_files_short:\n",
        "    is_human = face_detector(img_dir)\n",
        "    if not is_human:\n",
        "        correct += 1\n",
        "\n",
        "accuracy = (correct / 200 ) * 100\n",
        "print(f'The cascade classifier has reach accuracy of {accuracy}%')"
      ],
      "execution_count": null,
      "outputs": [
        {
          "output_type": "stream",
          "text": [
            "The cascade classifier has reach accuracy of 93.0%\n"
          ],
          "name": "stdout"
        }
      ]
    },
    {
      "cell_type": "markdown",
      "metadata": {
        "id": "h_wAKVj7Ui9c",
        "colab_type": "text"
      },
      "source": [
        "__Question 2:__ This algorithmic choice necessitates that we communicate to the user that we accept human images only when they provide a clear view of a face (otherwise, we risk having unneccessarily frustrated users!). In your opinion, is this a reasonable expectation to pose on the user? If not, can you think of a way to detect humans in images that does not necessitate an image with a clearly presented face?\n",
        "\n",
        "__Answer:__\n",
        "\n",
        "We suggest the face detector from OpenCV as a potential way to detect human images in your algorithm, but you are free to explore other approaches, especially approaches that make use of deep learning :).  Please use the code cell below to design and test your own face detection algorithm.  If you decide to pursue this _optional_ task, report performance on each of the datasets."
      ]
    },
    {
      "cell_type": "code",
      "metadata": {
        "id": "4z2k9O4DUi9d",
        "colab_type": "code",
        "colab": {}
      },
      "source": [
        "## (Optional) TODO: Report the performance of another  \n",
        "## face detection algorithm on the LFW dataset\n",
        "### Feel free to use as many code cells as needed."
      ],
      "execution_count": null,
      "outputs": []
    },
    {
      "cell_type": "markdown",
      "metadata": {
        "id": "KzcLmVHkUi9h",
        "colab_type": "text"
      },
      "source": [
        "---\n",
        "<a id='step2'></a>\n",
        "## Step 2: Detect Dogs\n",
        "\n",
        "In this section, we use a pre-trained [ResNet-50](http://ethereon.github.io/netscope/#/gist/db945b393d40bfa26006) model to detect dogs in images.  Our first line of code downloads the ResNet-50 model, along with weights that have been trained on [ImageNet](http://www.image-net.org/), a very large, very popular dataset used for image classification and other vision tasks.  ImageNet contains over 10 million URLs, each linking to an image containing an object from one of [1000 categories](https://gist.github.com/yrevar/942d3a0ac09ec9e5eb3a).  Given an image, this pre-trained ResNet-50 model returns a prediction (derived from the available categories in ImageNet) for the object that is contained in the image."
      ]
    },
    {
      "cell_type": "code",
      "metadata": {
        "id": "SZLhDilMUi9i",
        "colab_type": "code",
        "colab": {
          "base_uri": "https://localhost:8080/",
          "height": 50
        },
        "outputId": "aab42964-b038-458f-c827-e43bfd821da8"
      },
      "source": [
        "from keras.applications.resnet50 import ResNet50\n",
        "\n",
        "# define ResNet50 model\n",
        "ResNet50_model = ResNet50(weights='imagenet')"
      ],
      "execution_count": null,
      "outputs": [
        {
          "output_type": "stream",
          "text": [
            "Downloading data from https://github.com/fchollet/deep-learning-models/releases/download/v0.2/resnet50_weights_tf_dim_ordering_tf_kernels.h5\n",
            "102858752/102853048 [==============================] - 4s 0us/step\n"
          ],
          "name": "stdout"
        }
      ]
    },
    {
      "cell_type": "markdown",
      "metadata": {
        "id": "M13qoLmwUi9l",
        "colab_type": "text"
      },
      "source": [
        "### Pre-process the Data\n",
        "\n",
        "When using TensorFlow as backend, Keras CNNs require a 4D array (which we'll also refer to as a 4D tensor) as input, with shape\n",
        "\n",
        "$$\n",
        "(\\text{nb_samples}, \\text{rows}, \\text{columns}, \\text{channels}),\n",
        "$$\n",
        "\n",
        "where `nb_samples` corresponds to the total number of images (or samples), and `rows`, `columns`, and `channels` correspond to the number of rows, columns, and channels for each image, respectively.  \n",
        "\n",
        "The `path_to_tensor` function below takes a string-valued file path to a color image as input and returns a 4D tensor suitable for supplying to a Keras CNN.  The function first loads the image and resizes it to a square image that is $224 \\times 224$ pixels.  Next, the image is converted to an array, which is then resized to a 4D tensor.  In this case, since we are working with color images, each image has three channels.  Likewise, since we are processing a single image (or sample), the returned tensor will always have shape\n",
        "\n",
        "$$\n",
        "(1, 224, 224, 3).\n",
        "$$\n",
        "\n",
        "The `paths_to_tensor` function takes a numpy array of string-valued image paths as input and returns a 4D tensor with shape \n",
        "\n",
        "$$\n",
        "(\\text{nb_samples}, 224, 224, 3).\n",
        "$$\n",
        "\n",
        "Here, `nb_samples` is the number of samples, or number of images, in the supplied array of image paths.  It is best to think of `nb_samples` as the number of 3D tensors (where each 3D tensor corresponds to a different image) in your dataset!"
      ]
    },
    {
      "cell_type": "code",
      "metadata": {
        "id": "IoTMy6dpUi9l",
        "colab_type": "code",
        "colab": {}
      },
      "source": [
        "from keras.preprocessing import image                  \n",
        "from tqdm import tqdm\n",
        "\n",
        "def path_to_tensor(img_path):\n",
        "    # loads RGB image as PIL.Image.Image type\n",
        "    img = image.load_img(img_path, target_size=(224, 224))\n",
        "    # convert PIL.Image.Image type to 3D tensor with shape (224, 224, 3)\n",
        "    x = image.img_to_array(img)\n",
        "    # convert 3D tensor to 4D tensor with shape (1, 224, 224, 3) and return 4D tensor\n",
        "    return np.expand_dims(x, axis=0)\n",
        "\n",
        "def paths_to_tensor(img_paths):\n",
        "    list_of_tensors = [path_to_tensor(img_path) for img_path in tqdm(img_paths)]\n",
        "    return np.vstack(list_of_tensors)"
      ],
      "execution_count": null,
      "outputs": []
    },
    {
      "cell_type": "markdown",
      "metadata": {
        "id": "YxjhX-GlUi9p",
        "colab_type": "text"
      },
      "source": [
        "### Making Predictions with ResNet-50\n",
        "\n",
        "Getting the 4D tensor ready for ResNet-50, and for any other pre-trained model in Keras, requires some additional processing.  First, the RGB image is converted to BGR by reordering the channels.  All pre-trained models have the additional normalization step that the mean pixel (expressed in RGB as $[103.939, 116.779, 123.68]$ and calculated from all pixels in all images in ImageNet) must be subtracted from every pixel in each image.  This is implemented in the imported function `preprocess_input`.  If you're curious, you can check the code for `preprocess_input` [here](https://github.com/fchollet/keras/blob/master/keras/applications/imagenet_utils.py).\n",
        "\n",
        "Now that we have a way to format our image for supplying to ResNet-50, we are now ready to use the model to extract the predictions.  This is accomplished with the `predict` method, which returns an array whose $i$-th entry is the model's predicted probability that the image belongs to the $i$-th ImageNet category.  This is implemented in the `ResNet50_predict_labels` function below.\n",
        "\n",
        "By taking the argmax of the predicted probability vector, we obtain an integer corresponding to the model's predicted object class, which we can identify with an object category through the use of this [dictionary](https://gist.github.com/yrevar/942d3a0ac09ec9e5eb3a). "
      ]
    },
    {
      "cell_type": "code",
      "metadata": {
        "id": "zZ0mI_TUUi9q",
        "colab_type": "code",
        "colab": {}
      },
      "source": [
        "from keras.applications.resnet50 import preprocess_input, decode_predictions\n",
        "\n",
        "def ResNet50_predict_labels(img_path):\n",
        "    # returns prediction vector for image located at img_path\n",
        "    img = preprocess_input(path_to_tensor(img_path))\n",
        "    return np.argmax(ResNet50_model.predict(img))"
      ],
      "execution_count": null,
      "outputs": []
    },
    {
      "cell_type": "markdown",
      "metadata": {
        "id": "PUK_K0RDUi9t",
        "colab_type": "text"
      },
      "source": [
        "### Write a Dog Detector\n",
        "\n",
        "While looking at the [dictionary](https://gist.github.com/yrevar/942d3a0ac09ec9e5eb3a), you will notice that the categories corresponding to dogs appear in an uninterrupted sequence and correspond to dictionary keys 151-268, inclusive, to include all categories from `'Chihuahua'` to `'Mexican hairless'`.  Thus, in order to check to see if an image is predicted to contain a dog by the pre-trained ResNet-50 model, we need only check if the `ResNet50_predict_labels` function above returns a value between 151 and 268 (inclusive).\n",
        "\n",
        "We use these ideas to complete the `dog_detector` function below, which returns `True` if a dog is detected in an image (and `False` if not)."
      ]
    },
    {
      "cell_type": "code",
      "metadata": {
        "id": "Ji2x_ShKUi9u",
        "colab_type": "code",
        "colab": {}
      },
      "source": [
        "### returns \"True\" if a dog is detected in the image stored at img_path\n",
        "def dog_detector(img_path):\n",
        "    prediction = ResNet50_predict_labels(img_path)\n",
        "    return ((prediction <= 268) & (prediction >= 151)) "
      ],
      "execution_count": null,
      "outputs": []
    },
    {
      "cell_type": "markdown",
      "metadata": {
        "id": "ECvuoxlcUi9x",
        "colab_type": "text"
      },
      "source": [
        "### (IMPLEMENTATION) Assess the Dog Detector\n",
        "\n",
        "__Question 3:__ Use the code cell below to test the performance of your `dog_detector` function.  \n",
        "- What percentage of the images in `human_files_short` have a detected dog?  \n",
        "- What percentage of the images in `dog_files_short` have a detected dog?\n",
        "\n",
        "__Answer:__ "
      ]
    },
    {
      "cell_type": "code",
      "metadata": {
        "id": "awclbx_3Ui9x",
        "colab_type": "code",
        "colab": {
          "base_uri": "https://localhost:8080/",
          "height": 33
        },
        "outputId": "54aa6755-e922-4efc-da75-86d4c401c8fa"
      },
      "source": [
        "### TODO: Test the performance of the dog_detector function\n",
        "### on the images in human_files_short and dog_files_short.\n",
        "correct = 0\n",
        "for img_dir in human_files_short:\n",
        "    is_dog = dog_detector(img_dir)\n",
        "    if not is_dog:\n",
        "        correct += 1\n",
        "\n",
        "for img_dir in dog_files_short:\n",
        "    is_dog = dog_detector(img_dir)\n",
        "    if is_dog:\n",
        "        correct += 1\n",
        "\n",
        "accuracy = (correct / 200) * 100\n",
        "print(f\"The dog detector has accuracy of {accuracy}%\")"
      ],
      "execution_count": null,
      "outputs": [
        {
          "output_type": "stream",
          "text": [
            "The dog detector has accuracy of 99.0%\n"
          ],
          "name": "stdout"
        }
      ]
    },
    {
      "cell_type": "markdown",
      "metadata": {
        "id": "0vjkBIAOUi94",
        "colab_type": "text"
      },
      "source": [
        "---\n",
        "<a id='step3'></a>\n",
        "## Step 3: Create a CNN to Classify Dog Breeds (from Scratch)\n",
        "\n",
        "Now that we have functions for detecting humans and dogs in images, we need a way to predict breed from images.  In this step, you will create a CNN that classifies dog breeds.  You must create your CNN _from scratch_ (so, you can't use transfer learning _yet_!), and you must attain a test accuracy of at least 1%.  In Step 5 of this notebook, you will have the opportunity to use transfer learning to create a CNN that attains greatly improved accuracy.\n",
        "\n",
        "Be careful with adding too many trainable layers!  More parameters means longer training, which means you are more likely to need a GPU to accelerate the training process.  Thankfully, Keras provides a handy estimate of the time that each epoch is likely to take; you can extrapolate this estimate to figure out how long it will take for your algorithm to train. \n",
        "\n",
        "We mention that the task of assigning breed to dogs from images is considered exceptionally challenging.  To see why, consider that *even a human* would have great difficulty in distinguishing between a Brittany and a Welsh Springer Spaniel.  \n",
        "\n",
        "Brittany | Welsh Springer Spaniel\n",
        "- | - \n",
        "<img src=\"images/Brittany_02625.jpg\" width=\"100\"> | <img src=\"images/Welsh_springer_spaniel_08203.jpg\" width=\"200\">\n",
        "\n",
        "It is not difficult to find other dog breed pairs with minimal inter-class variation (for instance, Curly-Coated Retrievers and American Water Spaniels).  \n",
        "\n",
        "Curly-Coated Retriever | American Water Spaniel\n",
        "- | -\n",
        "<img src=\"images/Curly-coated_retriever_03896.jpg\" width=\"200\"> | <img src=\"images/American_water_spaniel_00648.jpg\" width=\"200\">\n",
        "\n",
        "\n",
        "Likewise, recall that labradors come in yellow, chocolate, and black.  Your vision-based algorithm will have to conquer this high intra-class variation to determine how to classify all of these different shades as the same breed.  \n",
        "\n",
        "Yellow Labrador | Chocolate Labrador | Black Labrador\n",
        "- | -\n",
        "<img src=\"images/Labrador_retriever_06457.jpg\" width=\"150\"> | <img src=\"images/Labrador_retriever_06455.jpg\" width=\"240\"> | <img src=\"images/Labrador_retriever_06449.jpg\" width=\"220\">\n",
        "\n",
        "We also mention that random chance presents an exceptionally low bar: setting aside the fact that the classes are slightly imabalanced, a random guess will provide a correct answer roughly 1 in 133 times, which corresponds to an accuracy of less than 1%.  \n",
        "\n",
        "Remember that the practice is far ahead of the theory in deep learning.  Experiment with many different architectures, and trust your intuition.  And, of course, have fun! \n",
        "\n",
        "### Pre-process the Data\n",
        "\n",
        "We rescale the images by dividing every pixel in every image by 255."
      ]
    },
    {
      "cell_type": "code",
      "metadata": {
        "id": "bfBXozHHUi95",
        "colab_type": "code",
        "colab": {
          "base_uri": "https://localhost:8080/",
          "height": 66
        },
        "outputId": "0702e950-b23f-4235-f19b-adc0c963790e"
      },
      "source": [
        "from PIL import ImageFile                            \n",
        "ImageFile.LOAD_TRUNCATED_IMAGES = True                 \n",
        "\n",
        "# pre-process the data for Keras\n",
        "train_tensors = paths_to_tensor(train_files).astype('float32')/255\n",
        "valid_tensors = paths_to_tensor(valid_files).astype('float32')/255\n",
        "test_tensors = paths_to_tensor(test_files).astype('float32')/255"
      ],
      "execution_count": null,
      "outputs": [
        {
          "output_type": "stream",
          "text": [
            "100%|██████████| 6680/6680 [00:49<00:00, 135.89it/s]\n",
            "100%|██████████| 835/835 [00:07<00:00, 118.55it/s]\n",
            "100%|██████████| 836/836 [00:06<00:00, 123.35it/s]\n"
          ],
          "name": "stderr"
        }
      ]
    },
    {
      "cell_type": "markdown",
      "metadata": {
        "id": "rkNgtTk0Ui99",
        "colab_type": "text"
      },
      "source": [
        "### (IMPLEMENTATION) Model Architecture\n",
        "\n",
        "Create a CNN to classify dog breed.  At the end of your code cell block, summarize the layers of your model by executing the line:\n",
        "    \n",
        "        model.summary()\n",
        "\n",
        "We have imported some Python modules to get you started, but feel free to import as many modules as you need.  If you end up getting stuck, here's a hint that specifies a model that trains relatively fast on CPU and attains >1% test accuracy in 5 epochs:\n",
        "\n",
        "![Sample CNN](images/sample_cnn.png)\n",
        "           \n",
        "__Question 4:__ Outline the steps you took to get to your final CNN architecture and your reasoning at each step.  If you chose to use the hinted architecture above, describe why you think that CNN architecture should work well for the image classification task.\n",
        "\n",
        "__Answer:__ "
      ]
    },
    {
      "cell_type": "code",
      "metadata": {
        "id": "JR1DThmCUi99",
        "colab_type": "code",
        "colab": {
          "base_uri": "https://localhost:8080/",
          "height": 883
        },
        "outputId": "e310f8c9-7ccb-4a91-8169-88cc8a2b4cfa"
      },
      "source": [
        "from keras.layers import Conv2D, MaxPooling2D, GlobalAveragePooling2D\n",
        "from keras.layers import Dropout, Flatten, Dense\n",
        "from keras.models import Sequential\n",
        "\n",
        "model = Sequential()\n",
        "\n",
        "### TODO: Define your architecture.\n",
        "model.add(Conv2D(32, 3, padding=\"same\", activation=\"relu\", input_shape=(224,224,3)))\n",
        "model.add(MaxPooling2D(pool_size=(2,2), padding=\"same\"))\n",
        "model.add(Conv2D(64, 3, padding=\"same\", activation=\"relu\"))\n",
        "model.add(MaxPooling2D(pool_size=(2,2), padding=\"same\"))\n",
        "model.add(Conv2D(128, 3, padding=\"same\", activation=\"relu\"))\n",
        "model.add(MaxPooling2D(pool_size=(2,2), padding=\"same\"))\n",
        "model.add(Conv2D(256, 3, padding=\"same\", activation=\"relu\"))\n",
        "model.add(MaxPooling2D(pool_size=(2,2), padding=\"same\"))\n",
        "model.add(Conv2D(512, 3, padding=\"same\", activation=\"relu\"))\n",
        "model.add(MaxPooling2D(pool_size=(2,2), padding=\"same\"))\n",
        "model.add(Conv2D(1024, 3, padding=\"same\", activation=\"relu\"))\n",
        "model.add(MaxPooling2D(pool_size=(2,2), padding=\"same\"))\n",
        "model.add(Conv2D(2048, 3, padding=\"same\", activation=\"relu\"))\n",
        "model.add(MaxPooling2D(pool_size=(2,2), padding=\"same\"))\n",
        "model.add(Conv2D(4096, 3, padding=\"same\", activation=\"relu\"))\n",
        "model.add(MaxPooling2D(pool_size=(2,2), padding=\"same\"))\n",
        "model.add(Flatten())\n",
        "model.add(Dense(1024, activation=\"relu\"))\n",
        "model.add(Dropout(0.2))\n",
        "model.add(Dense(512, activation=\"relu\"))\n",
        "model.add(Dropout(0.3))\n",
        "model.add(Dense(133))\n",
        "model.summary()"
      ],
      "execution_count": null,
      "outputs": [
        {
          "output_type": "stream",
          "text": [
            "Model: \"sequential_1\"\n",
            "_________________________________________________________________\n",
            "Layer (type)                 Output Shape              Param #   \n",
            "=================================================================\n",
            "conv2d_1 (Conv2D)            (None, 224, 224, 32)      896       \n",
            "_________________________________________________________________\n",
            "max_pooling2d_2 (MaxPooling2 (None, 112, 112, 32)      0         \n",
            "_________________________________________________________________\n",
            "conv2d_2 (Conv2D)            (None, 112, 112, 64)      18496     \n",
            "_________________________________________________________________\n",
            "max_pooling2d_3 (MaxPooling2 (None, 56, 56, 64)        0         \n",
            "_________________________________________________________________\n",
            "conv2d_3 (Conv2D)            (None, 56, 56, 128)       73856     \n",
            "_________________________________________________________________\n",
            "max_pooling2d_4 (MaxPooling2 (None, 28, 28, 128)       0         \n",
            "_________________________________________________________________\n",
            "conv2d_4 (Conv2D)            (None, 28, 28, 256)       295168    \n",
            "_________________________________________________________________\n",
            "max_pooling2d_5 (MaxPooling2 (None, 14, 14, 256)       0         \n",
            "_________________________________________________________________\n",
            "conv2d_5 (Conv2D)            (None, 14, 14, 512)       1180160   \n",
            "_________________________________________________________________\n",
            "max_pooling2d_6 (MaxPooling2 (None, 7, 7, 512)         0         \n",
            "_________________________________________________________________\n",
            "conv2d_6 (Conv2D)            (None, 7, 7, 1024)        4719616   \n",
            "_________________________________________________________________\n",
            "max_pooling2d_7 (MaxPooling2 (None, 4, 4, 1024)        0         \n",
            "_________________________________________________________________\n",
            "conv2d_7 (Conv2D)            (None, 4, 4, 2048)        18876416  \n",
            "_________________________________________________________________\n",
            "max_pooling2d_8 (MaxPooling2 (None, 2, 2, 2048)        0         \n",
            "_________________________________________________________________\n",
            "conv2d_8 (Conv2D)            (None, 2, 2, 4096)        75501568  \n",
            "_________________________________________________________________\n",
            "max_pooling2d_9 (MaxPooling2 (None, 1, 1, 4096)        0         \n",
            "_________________________________________________________________\n",
            "flatten_1 (Flatten)          (None, 4096)              0         \n",
            "_________________________________________________________________\n",
            "dense_1 (Dense)              (None, 1024)              4195328   \n",
            "_________________________________________________________________\n",
            "dropout_1 (Dropout)          (None, 1024)              0         \n",
            "_________________________________________________________________\n",
            "dense_2 (Dense)              (None, 512)               524800    \n",
            "_________________________________________________________________\n",
            "dropout_2 (Dropout)          (None, 512)               0         \n",
            "_________________________________________________________________\n",
            "dense_3 (Dense)              (None, 133)               68229     \n",
            "=================================================================\n",
            "Total params: 105,454,533\n",
            "Trainable params: 105,454,533\n",
            "Non-trainable params: 0\n",
            "_________________________________________________________________\n"
          ],
          "name": "stdout"
        }
      ]
    },
    {
      "cell_type": "markdown",
      "metadata": {
        "id": "oDO0GdVgUi-B",
        "colab_type": "text"
      },
      "source": [
        "### Compile the Model"
      ]
    },
    {
      "cell_type": "code",
      "metadata": {
        "id": "MCo2KbWUUi-C",
        "colab_type": "code",
        "colab": {}
      },
      "source": [
        "model.compile(optimizer='rmsprop', loss='categorical_crossentropy', metrics=['accuracy'])"
      ],
      "execution_count": null,
      "outputs": []
    },
    {
      "cell_type": "markdown",
      "metadata": {
        "id": "I5iTUXtbUi-G",
        "colab_type": "text"
      },
      "source": [
        "### (IMPLEMENTATION) Train the Model\n",
        "\n",
        "Train your model in the code cell below.  Use model checkpointing to save the model that attains the best validation loss.\n",
        "\n",
        "You are welcome to [augment the training data](https://blog.keras.io/building-powerful-image-classification-models-using-very-little-data.html), but this is not a requirement. "
      ]
    },
    {
      "cell_type": "code",
      "metadata": {
        "id": "KNqWSDqPUi-G",
        "colab_type": "code",
        "colab": {
          "base_uri": "https://localhost:8080/",
          "height": 1000
        },
        "outputId": "fcc3e4b3-4619-4275-8ad4-26db4d156541"
      },
      "source": [
        "from keras.callbacks import ModelCheckpoint  \n",
        "\n",
        "### TODO: specify the number of epochs that you would like to use to train the model.\n",
        "\n",
        "epochs = 30\n",
        "\n",
        "### Do NOT modify the code below this line.\n",
        "\n",
        "checkpointer = ModelCheckpoint(filepath='/content/saved_models/weights.best.from_scratch.hdf5', \n",
        "                               verbose=1, save_best_only=True)\n",
        "\n",
        "model.fit(train_tensors, train_targets, \n",
        "          validation_data=(valid_tensors, valid_targets),\n",
        "          epochs=epochs, batch_size=20, callbacks=[checkpointer], verbose=1)"
      ],
      "execution_count": null,
      "outputs": [
        {
          "output_type": "stream",
          "text": [
            "Train on 6680 samples, validate on 835 samples\n",
            "Epoch 1/30\n",
            "6680/6680 [==============================] - 83s 12ms/step - loss: 8.8318 - accuracy: 0.0084 - val_loss: 8.2835 - val_accuracy: 0.0072\n",
            "\n",
            "Epoch 00001: val_loss improved from inf to 8.28349, saving model to /content/saved_models/weights.best.from_scratch.hdf5\n",
            "Epoch 2/30\n",
            "6680/6680 [==============================] - 80s 12ms/step - loss: 8.6933 - accuracy: 0.0082 - val_loss: 8.7985 - val_accuracy: 0.0072\n",
            "\n",
            "Epoch 00002: val_loss did not improve from 8.28349\n",
            "Epoch 3/30\n",
            "6680/6680 [==============================] - 80s 12ms/step - loss: 8.4788 - accuracy: 0.0070 - val_loss: 8.8109 - val_accuracy: 0.0072\n",
            "\n",
            "Epoch 00003: val_loss did not improve from 8.28349\n",
            "Epoch 4/30\n",
            "6680/6680 [==============================] - 79s 12ms/step - loss: 8.2748 - accuracy: 0.0100 - val_loss: 9.0642 - val_accuracy: 0.0072\n",
            "\n",
            "Epoch 00004: val_loss did not improve from 8.28349\n",
            "Epoch 5/30\n",
            "6680/6680 [==============================] - 79s 12ms/step - loss: 8.1783 - accuracy: 0.0075 - val_loss: 8.0445 - val_accuracy: 0.0108\n",
            "\n",
            "Epoch 00005: val_loss improved from 8.28349 to 8.04453, saving model to /content/saved_models/weights.best.from_scratch.hdf5\n",
            "Epoch 6/30\n",
            "6680/6680 [==============================] - 79s 12ms/step - loss: 8.1177 - accuracy: 0.0112 - val_loss: 8.4595 - val_accuracy: 0.0108\n",
            "\n",
            "Epoch 00006: val_loss did not improve from 8.04453\n",
            "Epoch 7/30\n",
            "6680/6680 [==============================] - 79s 12ms/step - loss: 8.2280 - accuracy: 0.0093 - val_loss: 8.7156 - val_accuracy: 0.0096\n",
            "\n",
            "Epoch 00007: val_loss did not improve from 8.04453\n",
            "Epoch 8/30\n",
            "6680/6680 [==============================] - 79s 12ms/step - loss: 8.1470 - accuracy: 0.0096 - val_loss: 7.9143 - val_accuracy: 0.0108\n",
            "\n",
            "Epoch 00008: val_loss improved from 8.04453 to 7.91427, saving model to /content/saved_models/weights.best.from_scratch.hdf5\n",
            "Epoch 9/30\n",
            "6680/6680 [==============================] - 79s 12ms/step - loss: 7.9625 - accuracy: 0.0109 - val_loss: 7.9143 - val_accuracy: 0.0108\n",
            "\n",
            "Epoch 00009: val_loss did not improve from 7.91427\n",
            "Epoch 10/30\n",
            "6680/6680 [==============================] - 79s 12ms/step - loss: 8.1607 - accuracy: 0.0112 - val_loss: 8.2038 - val_accuracy: 0.0108\n",
            "\n",
            "Epoch 00010: val_loss did not improve from 7.91427\n",
            "Epoch 11/30\n",
            "6680/6680 [==============================] - 79s 12ms/step - loss: 8.2971 - accuracy: 0.0100 - val_loss: 7.9143 - val_accuracy: 0.0108\n",
            "\n",
            "Epoch 00011: val_loss did not improve from 7.91427\n",
            "Epoch 12/30\n",
            "6680/6680 [==============================] - 79s 12ms/step - loss: 8.1013 - accuracy: 0.0097 - val_loss: 8.2038 - val_accuracy: 0.0108\n",
            "\n",
            "Epoch 00012: val_loss did not improve from 7.91427\n",
            "Epoch 13/30\n",
            "6680/6680 [==============================] - 79s 12ms/step - loss: 8.2009 - accuracy: 0.0108 - val_loss: 7.9143 - val_accuracy: 0.0096\n",
            "\n",
            "Epoch 00013: val_loss did not improve from 7.91427\n",
            "Epoch 14/30\n",
            "6680/6680 [==============================] - 79s 12ms/step - loss: 8.0737 - accuracy: 0.0114 - val_loss: 7.9143 - val_accuracy: 0.0096\n",
            "\n",
            "Epoch 00014: val_loss did not improve from 7.91427\n",
            "Epoch 15/30\n",
            "6680/6680 [==============================] - 79s 12ms/step - loss: 8.0207 - accuracy: 0.0090 - val_loss: 8.2038 - val_accuracy: 0.0096\n",
            "\n",
            "Epoch 00015: val_loss did not improve from 7.91427\n",
            "Epoch 16/30\n",
            "6680/6680 [==============================] - 79s 12ms/step - loss: 8.0800 - accuracy: 0.0094 - val_loss: 7.9143 - val_accuracy: 0.0096\n",
            "\n",
            "Epoch 00016: val_loss did not improve from 7.91427\n",
            "Epoch 17/30\n",
            "6680/6680 [==============================] - 79s 12ms/step - loss: 8.1049 - accuracy: 0.0081 - val_loss: 7.9143 - val_accuracy: 0.0096\n",
            "\n",
            "Epoch 00017: val_loss did not improve from 7.91427\n",
            "Epoch 18/30\n",
            "6680/6680 [==============================] - 79s 12ms/step - loss: 8.3024 - accuracy: 0.0094 - val_loss: 8.2038 - val_accuracy: 0.0096\n",
            "\n",
            "Epoch 00018: val_loss did not improve from 7.91427\n",
            "Epoch 19/30\n",
            "6680/6680 [==============================] - 79s 12ms/step - loss: 8.0719 - accuracy: 0.0094 - val_loss: 7.9143 - val_accuracy: 0.0096\n",
            "\n",
            "Epoch 00019: val_loss did not improve from 7.91427\n",
            "Epoch 20/30\n",
            "6680/6680 [==============================] - 79s 12ms/step - loss: 8.0383 - accuracy: 0.0082 - val_loss: 7.9143 - val_accuracy: 0.0096\n",
            "\n",
            "Epoch 00020: val_loss did not improve from 7.91427\n",
            "Epoch 21/30\n",
            "6680/6680 [==============================] - 79s 12ms/step - loss: 8.1115 - accuracy: 0.0088 - val_loss: 8.3460 - val_accuracy: 0.0096\n",
            "\n",
            "Epoch 00021: val_loss did not improve from 7.91427\n",
            "Epoch 22/30\n",
            "6680/6680 [==============================] - 79s 12ms/step - loss: 8.0982 - accuracy: 0.0090 - val_loss: 7.9143 - val_accuracy: 0.0096\n",
            "\n",
            "Epoch 00022: val_loss did not improve from 7.91427\n",
            "Epoch 23/30\n",
            "6680/6680 [==============================] - 79s 12ms/step - loss: 8.0597 - accuracy: 0.0087 - val_loss: 7.9143 - val_accuracy: 0.0096\n",
            "\n",
            "Epoch 00023: val_loss did not improve from 7.91427\n",
            "Epoch 24/30\n",
            "6680/6680 [==============================] - 79s 12ms/step - loss: 8.0801 - accuracy: 0.0096 - val_loss: 7.9143 - val_accuracy: 0.0096\n",
            "\n",
            "Epoch 00024: val_loss did not improve from 7.91427\n",
            "Epoch 25/30\n",
            "6680/6680 [==============================] - 79s 12ms/step - loss: 8.1043 - accuracy: 0.0094 - val_loss: 7.9143 - val_accuracy: 0.0096\n",
            "\n",
            "Epoch 00025: val_loss did not improve from 7.91427\n",
            "Epoch 26/30\n",
            "6680/6680 [==============================] - 79s 12ms/step - loss: 8.0030 - accuracy: 0.0102 - val_loss: 8.3019 - val_accuracy: 0.0096\n",
            "\n",
            "Epoch 00026: val_loss did not improve from 7.91427\n",
            "Epoch 27/30\n",
            "6680/6680 [==============================] - 79s 12ms/step - loss: 8.1503 - accuracy: 0.0087 - val_loss: 8.2038 - val_accuracy: 0.0096\n",
            "\n",
            "Epoch 00027: val_loss did not improve from 7.91427\n",
            "Epoch 28/30\n",
            "6680/6680 [==============================] - 79s 12ms/step - loss: 8.1453 - accuracy: 0.0097 - val_loss: 7.9143 - val_accuracy: 0.0096\n",
            "\n",
            "Epoch 00028: val_loss did not improve from 7.91427\n",
            "Epoch 29/30\n",
            "6680/6680 [==============================] - 79s 12ms/step - loss: 8.0259 - accuracy: 0.0087 - val_loss: 8.2038 - val_accuracy: 0.0096\n",
            "\n",
            "Epoch 00029: val_loss did not improve from 7.91427\n",
            "Epoch 30/30\n",
            "6680/6680 [==============================] - 79s 12ms/step - loss: 8.0625 - accuracy: 0.0102 - val_loss: 8.2038 - val_accuracy: 0.0096\n",
            "\n",
            "Epoch 00030: val_loss did not improve from 7.91427\n"
          ],
          "name": "stdout"
        },
        {
          "output_type": "execute_result",
          "data": {
            "text/plain": [
              "<keras.callbacks.callbacks.History at 0x7f56edf9a710>"
            ]
          },
          "metadata": {
            "tags": []
          },
          "execution_count": 21
        }
      ]
    },
    {
      "cell_type": "markdown",
      "metadata": {
        "id": "lVf-ABeKUi-J",
        "colab_type": "text"
      },
      "source": [
        "### Load the Model with the Best Validation Loss"
      ]
    },
    {
      "cell_type": "code",
      "metadata": {
        "id": "Y263SJQKUi-J",
        "colab_type": "code",
        "colab": {}
      },
      "source": [
        "model.load_weights('/content/saved_models/weights.best.from_scratch.hdf5')"
      ],
      "execution_count": null,
      "outputs": []
    },
    {
      "cell_type": "markdown",
      "metadata": {
        "id": "spZvnkM2Ui-M",
        "colab_type": "text"
      },
      "source": [
        "### Test the Model\n",
        "\n",
        "Try out your model on the test dataset of dog images.  Ensure that your test accuracy is greater than 1%."
      ]
    },
    {
      "cell_type": "code",
      "metadata": {
        "id": "53s4l7bwUi-N",
        "colab_type": "code",
        "colab": {
          "base_uri": "https://localhost:8080/",
          "height": 33
        },
        "outputId": "fdeb453c-894a-4f00-b217-0b95c462d2f9"
      },
      "source": [
        "# get index of predicted dog breed for each image in test set\n",
        "dog_breed_predictions = [np.argmax(model.predict(np.expand_dims(tensor, axis=0))) for tensor in test_tensors]\n",
        "\n",
        "# report test accuracy\n",
        "test_accuracy = 100*np.sum(np.array(dog_breed_predictions)==np.argmax(test_targets, axis=1))/len(dog_breed_predictions)\n",
        "print('Test accuracy: %.4f%%' % test_accuracy)"
      ],
      "execution_count": null,
      "outputs": [
        {
          "output_type": "stream",
          "text": [
            "Test accuracy: 1.1962%\n"
          ],
          "name": "stdout"
        }
      ]
    },
    {
      "cell_type": "markdown",
      "metadata": {
        "id": "pAFcuOL9Ui-P",
        "colab_type": "text"
      },
      "source": [
        "---\n",
        "<a id='step4'></a>\n",
        "## Step 4: Use a CNN to Classify Dog Breeds\n",
        "\n",
        "To reduce training time without sacrificing accuracy, we show you how to train a CNN using transfer learning.  In the following step, you will get a chance to use transfer learning to train your own CNN.\n",
        "\n",
        "### Obtain Bottleneck Features"
      ]
    },
    {
      "cell_type": "code",
      "metadata": {
        "id": "740lvC77Ui-R",
        "colab_type": "code",
        "colab": {}
      },
      "source": [
        "bottleneck_features = np.load('bottleneck_features/DogVGG16Data.npz')\n",
        "train_VGG16 = bottleneck_features['train']\n",
        "valid_VGG16 = bottleneck_features['valid']\n",
        "test_VGG16 = bottleneck_features['test']"
      ],
      "execution_count": null,
      "outputs": []
    },
    {
      "cell_type": "markdown",
      "metadata": {
        "id": "DnOgrPSgUi-V",
        "colab_type": "text"
      },
      "source": [
        "### Model Architecture\n",
        "\n",
        "The model uses the the pre-trained VGG-16 model as a fixed feature extractor, where the last convolutional output of VGG-16 is fed as input to our model.  We only add a global average pooling layer and a fully connected layer, where the latter contains one node for each dog category and is equipped with a softmax."
      ]
    },
    {
      "cell_type": "code",
      "metadata": {
        "id": "RpVXN02PUi-V",
        "colab_type": "code",
        "colab": {
          "base_uri": "https://localhost:8080/",
          "height": 216
        },
        "outputId": "f258feec-e734-4ae9-94e8-0265ecd9268e"
      },
      "source": [
        "VGG16_model = Sequential()\n",
        "VGG16_model.add(GlobalAveragePooling2D(input_shape=train_VGG16.shape[1:]))\n",
        "VGG16_model.add(Dense(133, activation='softmax'))\n",
        "\n",
        "VGG16_model.summary()"
      ],
      "execution_count": null,
      "outputs": [
        {
          "output_type": "stream",
          "text": [
            "Model: \"sequential_14\"\n",
            "_________________________________________________________________\n",
            "Layer (type)                 Output Shape              Param #   \n",
            "=================================================================\n",
            "global_average_pooling2d_2 ( (None, 512)               0         \n",
            "_________________________________________________________________\n",
            "dense_38 (Dense)             (None, 133)               68229     \n",
            "=================================================================\n",
            "Total params: 68,229\n",
            "Trainable params: 68,229\n",
            "Non-trainable params: 0\n",
            "_________________________________________________________________\n"
          ],
          "name": "stdout"
        }
      ]
    },
    {
      "cell_type": "markdown",
      "metadata": {
        "id": "PSsZElnmUi-Y",
        "colab_type": "text"
      },
      "source": [
        "### Compile the Model"
      ]
    },
    {
      "cell_type": "code",
      "metadata": {
        "id": "gWy2qc9EUi-Y",
        "colab_type": "code",
        "colab": {}
      },
      "source": [
        "VGG16_model.compile(loss='categorical_crossentropy', optimizer='rmsprop', metrics=['accuracy'])"
      ],
      "execution_count": null,
      "outputs": []
    },
    {
      "cell_type": "markdown",
      "metadata": {
        "id": "4mtxV0KjUi-e",
        "colab_type": "text"
      },
      "source": [
        "### Train the Model"
      ]
    },
    {
      "cell_type": "code",
      "metadata": {
        "id": "fB1hx2vKUi-e",
        "colab_type": "code",
        "colab": {}
      },
      "source": [
        "checkpointer = ModelCheckpoint(filepath='saved_models/weights.best.VGG16.hdf5', \n",
        "                               verbose=1, save_best_only=True)\n",
        "\n",
        "VGG16_model.fit(train_VGG16, train_targets, \n",
        "          validation_data=(valid_VGG16, valid_targets),\n",
        "          epochs=20, batch_size=20, callbacks=[checkpointer], verbose=1)"
      ],
      "execution_count": null,
      "outputs": []
    },
    {
      "cell_type": "markdown",
      "metadata": {
        "id": "CvpwNd82Ui-h",
        "colab_type": "text"
      },
      "source": [
        "### Load the Model with the Best Validation Loss"
      ]
    },
    {
      "cell_type": "code",
      "metadata": {
        "id": "xbZkV1pmUi-h",
        "colab_type": "code",
        "colab": {}
      },
      "source": [
        "VGG16_model.load_weights('saved_models/weights.best.VGG16.hdf5')"
      ],
      "execution_count": null,
      "outputs": []
    },
    {
      "cell_type": "markdown",
      "metadata": {
        "id": "VQH6fp7bUi-k",
        "colab_type": "text"
      },
      "source": [
        "### Test the Model\n",
        "\n",
        "Now, we can use the CNN to test how well it identifies breed within our test dataset of dog images.  We print the test accuracy below."
      ]
    },
    {
      "cell_type": "code",
      "metadata": {
        "id": "6hYIYKukUi-k",
        "colab_type": "code",
        "colab": {
          "base_uri": "https://localhost:8080/",
          "height": 33
        },
        "outputId": "750eb133-5a66-4eef-fa38-28222630d509"
      },
      "source": [
        "# get index of predicted dog breed for each image in test set\n",
        "VGG16_predictions = [np.argmax(VGG16_model.predict(np.expand_dims(feature, axis=0))) for feature in test_VGG16]\n",
        "\n",
        "# report test accuracy\n",
        "test_accuracy = 100*np.sum(np.array(VGG16_predictions)==np.argmax(test_targets, axis=1))/len(VGG16_predictions)\n",
        "print('Test accuracy: %.4f%%' % test_accuracy)"
      ],
      "execution_count": null,
      "outputs": [
        {
          "output_type": "stream",
          "text": [
            "Test accuracy: 71.7703%\n"
          ],
          "name": "stdout"
        }
      ]
    },
    {
      "cell_type": "markdown",
      "metadata": {
        "id": "h7lbZHvZUi-o",
        "colab_type": "text"
      },
      "source": [
        "### Predict Dog Breed with the Model"
      ]
    },
    {
      "cell_type": "code",
      "metadata": {
        "id": "ZhaLrhgYUi-o",
        "colab_type": "code",
        "colab": {
          "base_uri": "https://localhost:8080/",
          "height": 33
        },
        "outputId": "7b1e83d1-b058-4153-efef-2be68f7d236d"
      },
      "source": [
        "from extract_bottleneck_features import *\n",
        "\n",
        "def VGG16_predict_breed(img_path):\n",
        "    # extract bottleneck features\n",
        "    bottleneck_feature = extract_VGG16(path_to_tensor(img_path))\n",
        "    # obtain predicted vector\n",
        "    predicted_vector = VGG16_model.predict(bottleneck_feature)\n",
        "    # return dog breed that is predicted by the model\n",
        "    return dog_names[np.argmax(predicted_vector)]\n",
        "\n",
        "VGG16_predict_breed(\"/content/images/American_water_spaniel_00648.jpg\")"
      ],
      "execution_count": null,
      "outputs": [
        {
          "output_type": "execute_result",
          "data": {
            "text/plain": [
              "'rain/073.German_wirehaired_pointer'"
            ]
          },
          "metadata": {
            "tags": []
          },
          "execution_count": 39
        }
      ]
    },
    {
      "cell_type": "markdown",
      "metadata": {
        "id": "vZCRlPjaUi-s",
        "colab_type": "text"
      },
      "source": [
        "---\n",
        "<a id='step5'></a>\n",
        "## Step 5: Create a CNN to Classify Dog Breeds (using Transfer Learning)\n",
        "\n",
        "You will now use transfer learning to create a CNN that can identify dog breed from images.  Your CNN must attain at least 60% accuracy on the test set.\n",
        "\n",
        "In Step 4, we used transfer learning to create a CNN using VGG-16 bottleneck features.  In this section, you must use the bottleneck features from a different pre-trained model.  To make things easier for you, we have pre-computed the features for all of the networks that are currently available in Keras:\n",
        "- [VGG-19](https://s3-us-west-1.amazonaws.com/udacity-aind/dog-project/DogVGG19Data.npz) bottleneck features\n",
        "- [ResNet-50](https://s3-us-west-1.amazonaws.com/udacity-aind/dog-project/DogResnet50Data.npz) bottleneck features\n",
        "- [Inception](https://s3-us-west-1.amazonaws.com/udacity-aind/dog-project/DogInceptionV3Data.npz) bottleneck features\n",
        "- [Xception](https://s3-us-west-1.amazonaws.com/udacity-aind/dog-project/DogXceptionData.npz) bottleneck features\n",
        "\n",
        "The files are encoded as such:\n",
        "\n",
        "    Dog{network}Data.npz\n",
        "    \n",
        "where `{network}`, in the above filename, can be one of `VGG19`, `Resnet50`, `InceptionV3`, or `Xception`.  Pick one of the above architectures, download the corresponding bottleneck features, and store the downloaded file in the `bottleneck_features/` folder in the repository.\n",
        "\n",
        "### (IMPLEMENTATION) Obtain Bottleneck Features\n",
        "\n",
        "In the code block below, extract the bottleneck features corresponding to the train, test, and validation sets by running the following:\n",
        "\n",
        "    bottleneck_features = np.load('bottleneck_features/Dog{network}Data.npz')\n",
        "    train_{network} = bottleneck_features['train']\n",
        "    valid_{network} = bottleneck_features['valid']\n",
        "    test_{network} = bottleneck_features['test']"
      ]
    },
    {
      "cell_type": "code",
      "metadata": {
        "id": "tpPv_h--Ui-s",
        "colab_type": "code",
        "colab": {}
      },
      "source": [
        "### TODO: Obtain bottleneck features from another pre-trained CNN.\n",
        "model_url = \"https://s3-us-west-1.amazonaws.com/udacity-aind/dog-project/DogResnet50Data.npz\"\n",
        "wget.download(model_url, \"/content/bottleneck_features/DogResnet50Data.npz\")\n",
        "restnet50_bottleneck_features = np.load(\"/content/bottleneck_features/DogResnet50Data.npz\")\n",
        "train_resnet50 = restnet50_bottleneck_features[\"train\"]\n",
        "valid_resnet50 = restnet50_bottleneck_features[\"valid\"]\n",
        "ttest_resnet50 = restnet50_bottleneck_features[\"test\"]"
      ],
      "execution_count": null,
      "outputs": []
    },
    {
      "cell_type": "markdown",
      "metadata": {
        "id": "gT4roXJXUi-v",
        "colab_type": "text"
      },
      "source": [
        "### (IMPLEMENTATION) Model Architecture\n",
        "\n",
        "Create a CNN to classify dog breed.  At the end of your code cell block, summarize the layers of your model by executing the line:\n",
        "    \n",
        "        <your model's name>.summary()\n",
        "   \n",
        "__Question 5:__ Outline the steps you took to get to your final CNN architecture and your reasoning at each step.  Describe why you think the architecture is suitable for the current problem.\n",
        "\n",
        "__Answer:__ \n",
        "\n"
      ]
    },
    {
      "cell_type": "code",
      "metadata": {
        "id": "Ywl-ViSNoiVQ",
        "colab_type": "code",
        "colab": {
          "base_uri": "https://localhost:8080/",
          "height": 33
        },
        "outputId": "005f8fb4-d7cc-49a9-83f4-5a10b80d1975"
      },
      "source": [
        "print(train_resnet50.shape)"
      ],
      "execution_count": null,
      "outputs": [
        {
          "output_type": "stream",
          "text": [
            "(6680, 1, 1, 2048)\n"
          ],
          "name": "stdout"
        }
      ]
    },
    {
      "cell_type": "code",
      "metadata": {
        "id": "9id33KfIUi-w",
        "colab_type": "code",
        "colab": {
          "base_uri": "https://localhost:8080/",
          "height": 350
        },
        "outputId": "d772e1ca-8cf6-46a1-8a42-40643c9a402c"
      },
      "source": [
        "### TODO: Define your architecture.\n",
        "mode_resnet50 = Sequential()\n",
        "mode_resnet50.add(GlobalAveragePooling2D(input_shape=(None, None, 2048)))\n",
        "# mode_resnet50.add(Flatten(input_shape=train_resnet50.shape[1:]))\n",
        "mode_resnet50.add(Dense(1024, activation=\"relu\"))\n",
        "mode_resnet50.add(Dropout(0.55))\n",
        "mode_resnet50.add(Dense(512, activation=\"relu\"))\n",
        "mode_resnet50.add(Dropout(0.65))\n",
        "mode_resnet50.add(Dense(133, activation=\"softmax\"))\n",
        "\n",
        "mode_resnet50.summary()"
      ],
      "execution_count": null,
      "outputs": [
        {
          "output_type": "stream",
          "text": [
            "Model: \"sequential_16\"\n",
            "_________________________________________________________________\n",
            "Layer (type)                 Output Shape              Param #   \n",
            "=================================================================\n",
            "global_average_pooling2d_4 ( (None, 2048)              0         \n",
            "_________________________________________________________________\n",
            "dense_42 (Dense)             (None, 1024)              2098176   \n",
            "_________________________________________________________________\n",
            "dropout_27 (Dropout)         (None, 1024)              0         \n",
            "_________________________________________________________________\n",
            "dense_43 (Dense)             (None, 512)               524800    \n",
            "_________________________________________________________________\n",
            "dropout_28 (Dropout)         (None, 512)               0         \n",
            "_________________________________________________________________\n",
            "dense_44 (Dense)             (None, 133)               68229     \n",
            "=================================================================\n",
            "Total params: 2,691,205\n",
            "Trainable params: 2,691,205\n",
            "Non-trainable params: 0\n",
            "_________________________________________________________________\n"
          ],
          "name": "stdout"
        }
      ]
    },
    {
      "cell_type": "markdown",
      "metadata": {
        "id": "1J6tINkFUi-z",
        "colab_type": "text"
      },
      "source": [
        "### (IMPLEMENTATION) Compile the Model"
      ]
    },
    {
      "cell_type": "code",
      "metadata": {
        "id": "pmgJ_71DUi-z",
        "colab_type": "code",
        "colab": {}
      },
      "source": [
        "### TODO: Compile the model.\n",
        "\n",
        "mode_resnet50.compile(\"adam\", loss=\"categorical_crossentropy\", metrics=[\"accuracy\"])"
      ],
      "execution_count": null,
      "outputs": []
    },
    {
      "cell_type": "markdown",
      "metadata": {
        "id": "f4ZJjFDvUi-2",
        "colab_type": "text"
      },
      "source": [
        "### (IMPLEMENTATION) Train the Model\n",
        "\n",
        "Train your model in the code cell below.  Use model checkpointing to save the model that attains the best validation loss.  \n",
        "\n",
        "You are welcome to [augment the training data](https://blog.keras.io/building-powerful-image-classification-models-using-very-little-data.html), but this is not a requirement. "
      ]
    },
    {
      "cell_type": "code",
      "metadata": {
        "id": "T9ZmIZ8Er6xI",
        "colab_type": "code",
        "colab": {
          "base_uri": "https://localhost:8080/",
          "height": 50
        },
        "outputId": "1b64aa89-fa86-4dfd-886e-0147f421b0b3"
      },
      "source": [
        "print(train_resnet50.shape)\n",
        "print(train_targets.shape)"
      ],
      "execution_count": null,
      "outputs": [
        {
          "output_type": "stream",
          "text": [
            "(6680, 1, 1, 2048)\n",
            "(6680, 133)\n"
          ],
          "name": "stdout"
        }
      ]
    },
    {
      "cell_type": "code",
      "metadata": {
        "id": "t6Z-xdbwUi-2",
        "colab_type": "code",
        "colab": {}
      },
      "source": [
        "### TODO: Train the model.\n",
        "resnet50_checkpointer = ModelCheckpoint(filepath='/content/saved_models/weights.best.ResNet50.hdf5', \n",
        "                               verbose=1, save_best_only=True)\n",
        "mode_resnet50.fit(train_resnet50, train_targets, \n",
        "          validation_data=(valid_resnet50, valid_targets),\n",
        "          epochs=150, batch_size=20, callbacks=[resnet50_checkpointer], verbose=1)"
      ],
      "execution_count": null,
      "outputs": []
    },
    {
      "cell_type": "markdown",
      "metadata": {
        "id": "exVPcFfoUi-5",
        "colab_type": "text"
      },
      "source": [
        "### (IMPLEMENTATION) Load the Model with the Best Validation Loss"
      ]
    },
    {
      "cell_type": "code",
      "metadata": {
        "id": "4o8NfhVGUi-6",
        "colab_type": "code",
        "colab": {}
      },
      "source": [
        "### TODO: Load the model weights with the best validation loss.\n",
        "mode_resnet50.load_weights(\"/content/saved_models/weights.best.ResNet50.hdf5\")"
      ],
      "execution_count": null,
      "outputs": []
    },
    {
      "cell_type": "markdown",
      "metadata": {
        "id": "iZJBVzICUi_B",
        "colab_type": "text"
      },
      "source": [
        "### (IMPLEMENTATION) Test the Model\n",
        "\n",
        "Try out your model on the test dataset of dog images. Ensure that your test accuracy is greater than 60%."
      ]
    },
    {
      "cell_type": "code",
      "metadata": {
        "id": "FXuewFur1DyR",
        "colab_type": "code",
        "colab": {
          "base_uri": "https://localhost:8080/",
          "height": 33
        },
        "outputId": "0dff8b45-c09d-4d4a-d76c-4f2309517d69"
      },
      "source": [
        "### TODO: Calculate classification accuracy on the test dataset.\n",
        "resnet50_predictions = [ np.argmax(mode_resnet50.predict(np.expand_dims(feature, axis=0))) for feature in ttest_resnet50 ]\n",
        "test_accuracy = 100*np.sum(np.array(resnet50_predictions) == np.argmax(test_targets, axis=1))/len(resnet50_predictions)\n",
        "print(f\"Test accuracy is {test_accuracy}%\")"
      ],
      "execution_count": null,
      "outputs": [
        {
          "output_type": "stream",
          "text": [
            "Test accuracy is 78.34928229665071%\n"
          ],
          "name": "stdout"
        }
      ]
    },
    {
      "cell_type": "markdown",
      "metadata": {
        "id": "2YY-l_sSUi_G",
        "colab_type": "text"
      },
      "source": [
        "### (IMPLEMENTATION) Predict Dog Breed with the Model\n",
        "\n",
        "Write a function that takes an image path as input and returns the dog breed (`Affenpinscher`, `Afghan_hound`, etc) that is predicted by your model.  \n",
        "\n",
        "Similar to the analogous function in Step 5, your function should have three steps:\n",
        "1. Extract the bottleneck features corresponding to the chosen CNN model.\n",
        "2. Supply the bottleneck features as input to the model to return the predicted vector.  Note that the argmax of this prediction vector gives the index of the predicted dog breed.\n",
        "3. Use the `dog_names` array defined in Step 0 of this notebook to return the corresponding breed.\n",
        "\n",
        "The functions to extract the bottleneck features can be found in `extract_bottleneck_features.py`, and they have been imported in an earlier code cell.  To obtain the bottleneck features corresponding to your chosen CNN architecture, you need to use the function\n",
        "\n",
        "    extract_{network}\n",
        "    \n",
        "where `{network}`, in the above filename, should be one of `VGG19`, `Resnet50`, `InceptionV3`, or `Xception`."
      ]
    },
    {
      "cell_type": "code",
      "metadata": {
        "id": "Kh52dQXZUi_I",
        "colab_type": "code",
        "colab": {
          "base_uri": "https://localhost:8080/",
          "height": 166
        },
        "outputId": "2f733cec-e1cb-4fe8-f9b5-bf8bb0a797dc"
      },
      "source": [
        "### TODO: Write a function that takes a path to an image as input\n",
        "### and returns the dog breed that is predicted by the model.\n",
        "from extract_bottleneck_features import *\n",
        "def resnet50_predict_breed(path_to_img):\n",
        "    image = extract_Resnet50(path_to_tensor(path_to_img))\n",
        "    prediction = mode_resnet50.predict(image)\n",
        "    return dog_names[np.argmax(prediction)]\n",
        "print(resnet50_predict_breed(\"/content/images/American_water_spaniel_00648.jpg\"))\n",
        "print(resnet50_predict_breed(\"/content/images/Brittany_02625.jpg\"))\n",
        "print(resnet50_predict_breed(\"/content/images/Curly-coated_retriever_03896.jpg\"))\n",
        "print(resnet50_predict_breed(\"/content/images/Labrador_retriever_06449.jpg\"))\n",
        "print(resnet50_predict_breed(\"/content/images/Labrador_retriever_06455.jpg\"))\n",
        "print(resnet50_predict_breed(\"/content/images/Labrador_retriever_06457.jpg\"))\n",
        "print(resnet50_predict_breed(\"/content/images/Welsh_springer_spaniel_08203.jpg\"))"
      ],
      "execution_count": null,
      "outputs": [
        {
          "output_type": "stream",
          "text": [
            "/usr/local/lib/python3.6/dist-packages/keras_applications/resnet50.py:265: UserWarning: The output shape of `ResNet50(include_top=False)` has been changed since Keras 2.2.0.\n",
            "  warnings.warn('The output shape of `ResNet50(include_top=False)` '\n"
          ],
          "name": "stderr"
        },
        {
          "output_type": "stream",
          "text": [
            "rain/018.Beauceron\n",
            "rain/035.Boykin_spaniel\n",
            "rain/018.Beauceron\n",
            "rain/015.Basset_hound\n",
            "rain/071.German_shepherd_dog\n",
            "rain/035.Boykin_spaniel\n",
            "rain/071.German_shepherd_dog\n"
          ],
          "name": "stdout"
        }
      ]
    },
    {
      "cell_type": "markdown",
      "metadata": {
        "id": "eTwo3xflUi_L",
        "colab_type": "text"
      },
      "source": [
        "---\n",
        "<a id='step6'></a>\n",
        "## Step 6: Write your Algorithm\n",
        "\n",
        "Write an algorithm that accepts a file path to an image and first determines whether the image contains a human, dog, or neither.  Then,\n",
        "- if a __dog__ is detected in the image, return the predicted breed.\n",
        "- if a __human__ is detected in the image, return the resembling dog breed.\n",
        "- if __neither__ is detected in the image, provide output that indicates an error.\n",
        "\n",
        "You are welcome to write your own functions for detecting humans and dogs in images, but feel free to use the `face_detector` and `dog_detector` functions developed above.  You are __required__ to use your CNN from Step 5 to predict dog breed.  \n",
        "\n",
        "Some sample output for our algorithm is provided below, but feel free to design your own user experience!\n",
        "\n",
        "![Sample Human Output](images/sample_human_output.png)\n",
        "\n",
        "\n",
        "### (IMPLEMENTATION) Write your Algorithm"
      ]
    },
    {
      "cell_type": "code",
      "metadata": {
        "id": "nlvsejfrUi_L",
        "colab_type": "code",
        "colab": {
          "base_uri": "https://localhost:8080/",
          "height": 66
        },
        "outputId": "f8f28527-db91-42c3-99bf-7cd9b7c09cc9"
      },
      "source": [
        "### TODO: Write your algorithm.\n",
        "### Feel free to use as many code cells as needed.\n",
        "def prediect_and_check_input(img_path):\n",
        "    breed = VGG16_predict_breed(img_path).split(\".\")[1]\n",
        "    if face_detector(img_path):\n",
        "        print(f\"The Dog breed that you look like is {breed}\")\n",
        "    elif dog_detector(img_path):\n",
        "        print(f\"The Dog breed is {breed}\")\n",
        "    else:\n",
        "        print(\"Noting Detected\")\n",
        "\n",
        "prediect_and_check_input(\"/content/images/American_water_spaniel_00648.jpg\")\n",
        "prediect_and_check_input(\"/content/images/sample_human_output.png\")\n",
        "prediect_and_check_input(\"/content/images/sample_cnn.png\")"
      ],
      "execution_count": null,
      "outputs": [
        {
          "output_type": "stream",
          "text": [
            "The Dog breed is Flat-coated_retriever\n",
            "The Dog breed that you look like is Cane_corso\n",
            "Noting Detected\n"
          ],
          "name": "stdout"
        }
      ]
    },
    {
      "cell_type": "markdown",
      "metadata": {
        "id": "V_d8pkPrUi_N",
        "colab_type": "text"
      },
      "source": [
        "---\n",
        "<a id='step7'></a>\n",
        "## Step 7: Test Your Algorithm\n",
        "\n",
        "In this section, you will take your new algorithm for a spin!  What kind of dog does the algorithm think that __you__ look like?  If you have a dog, does it predict your dog's breed accurately?  If you have a cat, does it mistakenly think that your cat is a dog?\n",
        "\n",
        "### (IMPLEMENTATION) Test Your Algorithm on Sample Images!\n",
        "\n",
        "Test your algorithm at least six images on your computer.  Feel free to use any images you like.  Use at least two human and two dog images.  \n",
        "\n",
        "__Question 6:__ Is the output better than you expected :) ?  Or worse :( ?  Provide at least three possible points of improvement for your algorithm.\n",
        "\n",
        "__Answer:__ "
      ]
    },
    {
      "cell_type": "code",
      "metadata": {
        "id": "-0S9_3dcUi_P",
        "colab_type": "code",
        "colab": {
          "base_uri": "https://localhost:8080/",
          "height": 116
        },
        "outputId": "434fd7ff-3679-4130-b98c-2efd238ae6b5"
      },
      "source": [
        "## TODO: Execute your algorithm from Step 6 on\n",
        "## at least 6 images on your computer.\n",
        "## Feel free to use as many code cells as needed.\n",
        "prediect_and_check_input(\"/content/images/0001_germanShepered.jpg\")\n",
        "prediect_and_check_input(\"/content/images/0002_bulldog.jpg\")\n",
        "prediect_and_check_input(\"/content/images/0003_cat.jpg\")\n",
        "prediect_and_check_input(\"/content/images/0004_cat.jpg\")\n",
        "prediect_and_check_input(\"/content/images/0005_man.jpg\")\n",
        "prediect_and_check_input(\"/content/images/0006_girl.jpg\")\n"
      ],
      "execution_count": null,
      "outputs": [
        {
          "output_type": "stream",
          "text": [
            "The Dog breed is German_shepherd_dog\n",
            "The Dog breed is Saint_bernard\n",
            "Noting Detected\n",
            "Noting Detected\n",
            "The Dog breed that you look like is Xoloitzcuintli\n",
            "The Dog breed that you look like is Silky_terrier\n"
          ],
          "name": "stdout"
        }
      ]
    }
  ]
}